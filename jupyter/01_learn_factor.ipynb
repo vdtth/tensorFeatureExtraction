{
 "cells": [
  {
   "cell_type": "code",
   "execution_count": 201,
   "id": "f1301ca7-f27f-4578-a18b-fd697f15d90a",
   "metadata": {
    "tags": []
   },
   "outputs": [],
   "source": [
    "# import\n",
    "import os\n",
    "import glob\n",
    "import numpy as np\n",
    "import pandas as pd\n",
    "import pickle\n",
    "from tqdm import tqdm\n",
    "\n",
    "import time\n",
    "import torch\n",
    "import tensorly as tl\n",
    "import nibabel as nib\n",
    "import matplotlib.pyplot as plt\n",
    "from tensorly.metrics.regression import RMSE\n",
    "from tensorly.decomposition import non_negative_tucker, non_negative_tucker_hals,tucker\n",
    "\n",
    "path = r'E:\\Thanh\\Projects\\QG-Alzheirmer\\tensorFeatureExtraction\\data\\\\'\n",
    "pair = ['AD','NC']\n",
    "rank = [30,30,25]\n",
    "rank_str = '_'.join([str(elem) for elem in rank])\n",
    "combine_paths = ([glob.glob( path +fr'{x}_tucker_{rank_str}//*.p') for x in pair])\n",
    "combine_paths = combine_paths[0] + combine_paths[1]\n",
    "\n",
    "\n"
   ]
  },
  {
   "cell_type": "code",
   "execution_count": 204,
   "id": "41f11f7d-4ca5-4f2b-8693-cb8b3ce56a7c",
   "metadata": {
    "tags": []
   },
   "outputs": [
    {
     "data": {
      "text/plain": [
       "'E:\\\\Thanh\\\\Projects\\\\QG-Alzheirmer\\\\tensorFeatureExtraction\\\\data\\\\\\\\AD_tucker_30_30_25\\\\002_S_0619_tucker_30,30,25.p'"
      ]
     },
     "execution_count": 204,
     "metadata": {},
     "output_type": "execute_result"
    }
   ],
   "source": [
    "combine_paths[0]"
   ]
  },
  {
   "cell_type": "code",
   "execution_count": null,
   "id": "263919e1-ca91-47d6-8b26-d83704cbc3f9",
   "metadata": {},
   "outputs": [],
   "source": [
    "Nsubject_core_tensor"
   ]
  },
  {
   "cell_type": "code",
   "execution_count": 202,
   "id": "96336d8d-7090-457d-a1cb-a17dbbb5c579",
   "metadata": {
    "tags": []
   },
   "outputs": [
    {
     "name": "stderr",
     "output_type": "stream",
     "text": [
      "100%|███████████████████████████████████████████████| 791/791 [00:01<00:00, 439.11it/s]\n"
     ]
    }
   ],
   "source": [
    "core_tensor = []\n",
    "for x in range(3):\n",
    "    factor_dict[f\"factor{x}\"] = []\n",
    "for path in tqdm(combine_paths):\n",
    "    with open(path, 'rb') as f:\n",
    "        data = pickle.load(f)\n",
    "        core =  np.array(data[0])\n",
    "        factors = data[1]\n",
    "        core_tensor.append(core)\n",
    "        [factor_dict[f\"factor{x}\"].append(factors[x]) for x in range(3)]\n",
    "\n",
    "Nsubject_core_tensor = np.array(core_tensor)\n",
    "Nsubject_factor0_tensor = np.array(factor_dict[\"factor0\"])\n",
    "Nsubject_factor1_tensor = np.array(factor_dict[\"factor1\"])\n",
    "Nsubject_factor2_tensor = np.array(factor_dict[\"factor2\"])"
   ]
  },
  {
   "cell_type": "code",
   "execution_count": 198,
   "id": "81c649fa-aba6-46c9-a973-8abb902cfa62",
   "metadata": {
    "tags": []
   },
   "outputs": [
    {
     "data": {
      "text/plain": [
       "((0,), (0,), (0,), (0,))"
      ]
     },
     "execution_count": 198,
     "metadata": {},
     "output_type": "execute_result"
    }
   ],
   "source": [
    "Nsubject_core_tensor.shape,Nsubject_factor2_tensor.shape,Nsubject_factor1_tensor.shape,Nsubject_factor0_tensor.shape"
   ]
  },
  {
   "cell_type": "code",
   "execution_count": null,
   "id": "9d4f3b7f-8a25-477e-89e2-f697f413ef48",
   "metadata": {
    "tags": []
   },
   "outputs": [],
   "source": [
    "core_factor_T = [torch.from_numpy(x.T).to('cuda') for x in core_factor[1:]]\n",
    "factor0_factor_T  = [torch.from_numpy(x.T).to('cuda') for x in factor0_factor[1:]]\n",
    "factor1_factor_T  = [torch.from_numpy(x.T).to('cuda') for x in factor1_factor[1:]]\n",
    "factor2_factor_T  = [torch.from_numpy(x.T).to('cuda') for x in factor2_factor[1:]]\n",
    "with open('factor_all_subject.p', 'wb') as f:\n",
    "    pickle.dump((core_factor_T,factor0_factor_T,factor1_factor_T,factor2_factor_T), f)\n",
    "    "
   ]
  },
  {
   "cell_type": "code",
   "execution_count": 192,
   "id": "4d5f1f9b-5219-4a74-b473-447a6b6671a3",
   "metadata": {
    "tags": []
   },
   "outputs": [
    {
     "name": "stderr",
     "output_type": "stream",
     "text": [
      "100%|███████████████████████████████████████████████| 791/791 [00:04<00:00, 165.37it/s]\n"
     ]
    }
   ],
   "source": [
    "\n",
    "for path in tqdm(combine_paths):\n",
    "    # print(path)\n",
    "    with open(path, 'rb') as f:\n",
    "        data = pickle.load(f)\n",
    "        core =  np.array(data[0])\n",
    "        factors = data[1]\n",
    "        \n",
    "        extract_core = tl.tenalg.multi_mode_dot(torch.from_numpy(core).to('cuda'),core_factor_T)\n",
    "        extract_factor0 = tl.tenalg.multi_mode_dot(torch.from_numpy(factors[0]).to('cuda'),factor0_factor_T)\n",
    "        extract_factor1 = tl.tenalg.multi_mode_dot(torch.from_numpy(factors[1]).to('cuda'),factor1_factor_T)\n",
    "        extract_factor2 = tl.tenalg.multi_mode_dot(torch.from_numpy(factors[2]).to('cuda'),factor2_factor_T)\n",
    "        \n",
    "        saveDir = os.path.join(os.path.dirname(path), 'feature')\n",
    "        if not os.path.exists(saveDir):\n",
    "            os.mkdir(saveDir)\n",
    "        with open(os.path.join(saveDir, os.path.basename(path)),'wb') as f:\n",
    "            pickle.dump((extract_core.cpu().numpy(),extract_factor0.cpu().numpy(),extract_factor1.cpu().numpy(),extract_factor2.cpu().numpy()),f)\n",
    "        "
   ]
  },
  {
   "cell_type": "code",
   "execution_count": 24,
   "id": "11922492-c52a-4736-b2bc-d5bc335c7d79",
   "metadata": {
    "tags": []
   },
   "outputs": [],
   "source": []
  }
 ],
 "metadata": {
  "kernelspec": {
   "display_name": "Python 3 (ipykernel)",
   "language": "python",
   "name": "python3"
  },
  "language_info": {
   "codemirror_mode": {
    "name": "ipython",
    "version": 3
   },
   "file_extension": ".py",
   "mimetype": "text/x-python",
   "name": "python",
   "nbconvert_exporter": "python",
   "pygments_lexer": "ipython3",
   "version": "3.8.16"
  }
 },
 "nbformat": 4,
 "nbformat_minor": 5
}
